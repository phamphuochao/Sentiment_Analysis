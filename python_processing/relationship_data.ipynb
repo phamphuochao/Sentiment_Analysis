{
 "cells": [
  {
   "cell_type": "markdown",
   "metadata": {},
   "source": [
    "1. Khai báo thư viện"
   ]
  },
  {
   "cell_type": "code",
   "execution_count": 1,
   "metadata": {},
   "outputs": [],
   "source": [
    "import pandas as pd\n",
    "from textblob import TextBlob\n",
    "import pycountry"
   ]
  },
  {
   "cell_type": "markdown",
   "metadata": {},
   "source": [
    "2. Load file data"
   ]
  },
  {
   "cell_type": "code",
   "execution_count": 2,
   "metadata": {},
   "outputs": [
    {
     "name": "stderr",
     "output_type": "stream",
     "text": [
      "<>:1: SyntaxWarning: invalid escape sequence '\\D'\n",
      "<>:1: SyntaxWarning: invalid escape sequence '\\D'\n",
      "C:\\Users\\HaoPham\\AppData\\Local\\Temp\\ipykernel_27720\\2787106789.py:1: SyntaxWarning: invalid escape sequence '\\D'\n",
      "  data_file_path = \"D:\\DATN\\Social Media Sentiments Analysis Dataset\\DeBug  data\\cleaned_data\\sentimentdataset.csv\"\n"
     ]
    }
   ],
   "source": [
    "data_file_path = \"D:\\DATN\\Social Media Sentiments Analysis Dataset\\DeBug  data\\cleaned_data\\sentimentdataset.csv\"\n",
    "data = pd.read_csv(data_file_path)\n",
    "df = pd.DataFrame(data)"
   ]
  },
  {
   "cell_type": "markdown",
   "metadata": {},
   "source": [
    "3. Tạo các bảng Dim"
   ]
  },
  {
   "cell_type": "markdown",
   "metadata": {},
   "source": [
    "3.1 Tạo bảng Users"
   ]
  },
  {
   "cell_type": "code",
   "execution_count": 3,
   "metadata": {},
   "outputs": [],
   "source": [
    "# Tạo bảng Users và phân loại các users\n",
    "df['Total_Interaction'] = df['Retweets'] + df['Likes']\n",
    "# Phân loại các user\n",
    "df['User Type'] = df['Total_Interaction'].apply(lambda x: 'Influencer' if x > 50 else 'Regular User')\n",
    "\n",
    "df['User ID'] = ['User_' + str(i+1) for i in range(len(df))]  # Tạo User IDs\n",
    "\n",
    "# Tính số bài viết của mỗi user (Posts_count)\n",
    "user_posts_count = df.groupby('User')['Text'].count().reset_index()\n",
    "user_posts_count.columns = ['User', 'Posts_count']\n",
    "\n",
    "df_users = df[['User ID', 'User', 'User Type']].drop_duplicates().merge(user_posts_count, on='User')\n",
    "df_users.columns = ['User ID', 'User Name', 'User Type', 'Posts_count']"
   ]
  },
  {
   "cell_type": "code",
   "execution_count": 4,
   "metadata": {},
   "outputs": [
    {
     "data": {
      "text/html": [
       "<div>\n",
       "<style scoped>\n",
       "    .dataframe tbody tr th:only-of-type {\n",
       "        vertical-align: middle;\n",
       "    }\n",
       "\n",
       "    .dataframe tbody tr th {\n",
       "        vertical-align: top;\n",
       "    }\n",
       "\n",
       "    .dataframe thead th {\n",
       "        text-align: right;\n",
       "    }\n",
       "</style>\n",
       "<table border=\"1\" class=\"dataframe\">\n",
       "  <thead>\n",
       "    <tr style=\"text-align: right;\">\n",
       "      <th></th>\n",
       "      <th>User ID</th>\n",
       "      <th>User Name</th>\n",
       "      <th>User Type</th>\n",
       "      <th>Posts_count</th>\n",
       "    </tr>\n",
       "  </thead>\n",
       "  <tbody>\n",
       "    <tr>\n",
       "      <th>0</th>\n",
       "      <td>User_1</td>\n",
       "      <td>User123</td>\n",
       "      <td>Regular User</td>\n",
       "      <td>1</td>\n",
       "    </tr>\n",
       "    <tr>\n",
       "      <th>1</th>\n",
       "      <td>User_2</td>\n",
       "      <td>CommuterX</td>\n",
       "      <td>Regular User</td>\n",
       "      <td>1</td>\n",
       "    </tr>\n",
       "    <tr>\n",
       "      <th>2</th>\n",
       "      <td>User_3</td>\n",
       "      <td>FitnessFan</td>\n",
       "      <td>Influencer</td>\n",
       "      <td>1</td>\n",
       "    </tr>\n",
       "    <tr>\n",
       "      <th>3</th>\n",
       "      <td>User_4</td>\n",
       "      <td>AdventureX</td>\n",
       "      <td>Regular User</td>\n",
       "      <td>1</td>\n",
       "    </tr>\n",
       "    <tr>\n",
       "      <th>4</th>\n",
       "      <td>User_5</td>\n",
       "      <td>ChefCook</td>\n",
       "      <td>Regular User</td>\n",
       "      <td>1</td>\n",
       "    </tr>\n",
       "  </tbody>\n",
       "</table>\n",
       "</div>"
      ],
      "text/plain": [
       "  User ID   User Name     User Type  Posts_count\n",
       "0  User_1     User123  Regular User            1\n",
       "1  User_2   CommuterX  Regular User            1\n",
       "2  User_3  FitnessFan    Influencer            1\n",
       "3  User_4  AdventureX  Regular User            1\n",
       "4  User_5    ChefCook  Regular User            1"
      ]
     },
     "execution_count": 4,
     "metadata": {},
     "output_type": "execute_result"
    }
   ],
   "source": [
    "df_users.head()"
   ]
  },
  {
   "cell_type": "markdown",
   "metadata": {},
   "source": [
    "3.2 Tạo bảng Coutries"
   ]
  },
  {
   "cell_type": "code",
   "execution_count": 5,
   "metadata": {},
   "outputs": [],
   "source": [
    "# Tạo bảng Countries với mã ISO 3166-1 alpha-2\n",
    "def get_country_code(country_name):\n",
    "    if country_name == \"UK\":\n",
    "        return \"UK\"\n",
    "    elif country_name == \"Scotland\":\n",
    "        return \"SCT\"\n",
    "    try:\n",
    "        return pycountry.countries.lookup(country_name).alpha_2\n",
    "    except LookupError:\n",
    "        return None  # Trả về None nếu không tìm thấy\n",
    "\n",
    "# Áp dụng hàm để tạo cột 'Country ID'\n",
    "df['Country ID'] = df['Country'].apply(get_country_code)\n",
    "\n",
    "# Tạo bảng df_countries với các giá trị duy nhất\n",
    "df_countries = df[['Country', 'Country ID']].drop_duplicates()"
   ]
  },
  {
   "cell_type": "code",
   "execution_count": 6,
   "metadata": {},
   "outputs": [
    {
     "data": {
      "text/html": [
       "<div>\n",
       "<style scoped>\n",
       "    .dataframe tbody tr th:only-of-type {\n",
       "        vertical-align: middle;\n",
       "    }\n",
       "\n",
       "    .dataframe tbody tr th {\n",
       "        vertical-align: top;\n",
       "    }\n",
       "\n",
       "    .dataframe thead th {\n",
       "        text-align: right;\n",
       "    }\n",
       "</style>\n",
       "<table border=\"1\" class=\"dataframe\">\n",
       "  <thead>\n",
       "    <tr style=\"text-align: right;\">\n",
       "      <th></th>\n",
       "      <th>Country</th>\n",
       "      <th>Country ID</th>\n",
       "    </tr>\n",
       "  </thead>\n",
       "  <tbody>\n",
       "    <tr>\n",
       "      <th>0</th>\n",
       "      <td>USA</td>\n",
       "      <td>US</td>\n",
       "    </tr>\n",
       "    <tr>\n",
       "      <th>1</th>\n",
       "      <td>Canada</td>\n",
       "      <td>CA</td>\n",
       "    </tr>\n",
       "    <tr>\n",
       "      <th>3</th>\n",
       "      <td>UK</td>\n",
       "      <td>UK</td>\n",
       "    </tr>\n",
       "    <tr>\n",
       "      <th>4</th>\n",
       "      <td>Australia</td>\n",
       "      <td>AU</td>\n",
       "    </tr>\n",
       "    <tr>\n",
       "      <th>5</th>\n",
       "      <td>India</td>\n",
       "      <td>IN</td>\n",
       "    </tr>\n",
       "  </tbody>\n",
       "</table>\n",
       "</div>"
      ],
      "text/plain": [
       "     Country Country ID\n",
       "0        USA         US\n",
       "1     Canada         CA\n",
       "3         UK         UK\n",
       "4  Australia         AU\n",
       "5      India         IN"
      ]
     },
     "execution_count": 6,
     "metadata": {},
     "output_type": "execute_result"
    }
   ],
   "source": [
    "df_countries.head()"
   ]
  },
  {
   "cell_type": "markdown",
   "metadata": {},
   "source": [
    "3.3 Tạo bảng Platform"
   ]
  },
  {
   "cell_type": "code",
   "execution_count": 7,
   "metadata": {},
   "outputs": [],
   "source": [
    "#Tạo bảng Dim Platform\n",
    "df_platform = pd.DataFrame({\n",
    "    'Platform ID': ['FB', 'IG', 'X'],\n",
    "    'Platform': ['Facebook', 'Instagram', 'Twitter']\n",
    "})"
   ]
  },
  {
   "cell_type": "code",
   "execution_count": 8,
   "metadata": {},
   "outputs": [
    {
     "data": {
      "text/html": [
       "<div>\n",
       "<style scoped>\n",
       "    .dataframe tbody tr th:only-of-type {\n",
       "        vertical-align: middle;\n",
       "    }\n",
       "\n",
       "    .dataframe tbody tr th {\n",
       "        vertical-align: top;\n",
       "    }\n",
       "\n",
       "    .dataframe thead th {\n",
       "        text-align: right;\n",
       "    }\n",
       "</style>\n",
       "<table border=\"1\" class=\"dataframe\">\n",
       "  <thead>\n",
       "    <tr style=\"text-align: right;\">\n",
       "      <th></th>\n",
       "      <th>Platform ID</th>\n",
       "      <th>Platform</th>\n",
       "    </tr>\n",
       "  </thead>\n",
       "  <tbody>\n",
       "    <tr>\n",
       "      <th>0</th>\n",
       "      <td>FB</td>\n",
       "      <td>Facebook</td>\n",
       "    </tr>\n",
       "    <tr>\n",
       "      <th>1</th>\n",
       "      <td>IG</td>\n",
       "      <td>Instagram</td>\n",
       "    </tr>\n",
       "    <tr>\n",
       "      <th>2</th>\n",
       "      <td>X</td>\n",
       "      <td>Twitter</td>\n",
       "    </tr>\n",
       "  </tbody>\n",
       "</table>\n",
       "</div>"
      ],
      "text/plain": [
       "  Platform ID   Platform\n",
       "0          FB   Facebook\n",
       "1          IG  Instagram\n",
       "2           X    Twitter"
      ]
     },
     "execution_count": 8,
     "metadata": {},
     "output_type": "execute_result"
    }
   ],
   "source": [
    "df_platform.head()"
   ]
  },
  {
   "cell_type": "markdown",
   "metadata": {},
   "source": [
    "3.4 Tạo bảng Calendar"
   ]
  },
  {
   "cell_type": "code",
   "execution_count": 9,
   "metadata": {},
   "outputs": [],
   "source": [
    "#Tạo bảng Calendar\n",
    "df['Timestamp'] = pd.to_datetime(df['Timestamp'])\n",
    "df_calendar = df[['Timestamp']].drop_duplicates()\n",
    "df_calendar['Year'] = df_calendar['Timestamp'].dt.year\n",
    "df_calendar['Month'] = df_calendar['Timestamp'].dt.month\n",
    "df_calendar['Day'] = df_calendar['Timestamp'].dt.day\n",
    "df_calendar['Hour'] = df_calendar['Timestamp'].dt.hour"
   ]
  },
  {
   "cell_type": "code",
   "execution_count": 10,
   "metadata": {},
   "outputs": [
    {
     "data": {
      "text/html": [
       "<div>\n",
       "<style scoped>\n",
       "    .dataframe tbody tr th:only-of-type {\n",
       "        vertical-align: middle;\n",
       "    }\n",
       "\n",
       "    .dataframe tbody tr th {\n",
       "        vertical-align: top;\n",
       "    }\n",
       "\n",
       "    .dataframe thead th {\n",
       "        text-align: right;\n",
       "    }\n",
       "</style>\n",
       "<table border=\"1\" class=\"dataframe\">\n",
       "  <thead>\n",
       "    <tr style=\"text-align: right;\">\n",
       "      <th></th>\n",
       "      <th>Timestamp</th>\n",
       "      <th>Year</th>\n",
       "      <th>Month</th>\n",
       "      <th>Day</th>\n",
       "      <th>Hour</th>\n",
       "    </tr>\n",
       "  </thead>\n",
       "  <tbody>\n",
       "    <tr>\n",
       "      <th>0</th>\n",
       "      <td>2023-01-15 12:30:00</td>\n",
       "      <td>2023</td>\n",
       "      <td>1</td>\n",
       "      <td>15</td>\n",
       "      <td>12</td>\n",
       "    </tr>\n",
       "    <tr>\n",
       "      <th>1</th>\n",
       "      <td>2023-01-15 08:45:00</td>\n",
       "      <td>2023</td>\n",
       "      <td>1</td>\n",
       "      <td>15</td>\n",
       "      <td>8</td>\n",
       "    </tr>\n",
       "    <tr>\n",
       "      <th>2</th>\n",
       "      <td>2023-01-15 15:45:00</td>\n",
       "      <td>2023</td>\n",
       "      <td>1</td>\n",
       "      <td>15</td>\n",
       "      <td>15</td>\n",
       "    </tr>\n",
       "    <tr>\n",
       "      <th>3</th>\n",
       "      <td>2023-01-15 18:20:00</td>\n",
       "      <td>2023</td>\n",
       "      <td>1</td>\n",
       "      <td>15</td>\n",
       "      <td>18</td>\n",
       "    </tr>\n",
       "    <tr>\n",
       "      <th>4</th>\n",
       "      <td>2023-01-15 19:55:00</td>\n",
       "      <td>2023</td>\n",
       "      <td>1</td>\n",
       "      <td>15</td>\n",
       "      <td>19</td>\n",
       "    </tr>\n",
       "  </tbody>\n",
       "</table>\n",
       "</div>"
      ],
      "text/plain": [
       "            Timestamp  Year  Month  Day  Hour\n",
       "0 2023-01-15 12:30:00  2023      1   15    12\n",
       "1 2023-01-15 08:45:00  2023      1   15     8\n",
       "2 2023-01-15 15:45:00  2023      1   15    15\n",
       "3 2023-01-15 18:20:00  2023      1   15    18\n",
       "4 2023-01-15 19:55:00  2023      1   15    19"
      ]
     },
     "execution_count": 10,
     "metadata": {},
     "output_type": "execute_result"
    }
   ],
   "source": [
    "df_calendar.head()"
   ]
  },
  {
   "cell_type": "markdown",
   "metadata": {},
   "source": [
    "-------CÁC BẢNG ĐẶC BIỆT-------"
   ]
  },
  {
   "cell_type": "markdown",
   "metadata": {},
   "source": [
    "3.5 Tạo bảng Sentiments"
   ]
  },
  {
   "cell_type": "code",
   "execution_count": 11,
   "metadata": {},
   "outputs": [],
   "source": [
    "#Tạo bảng Sentiments\n",
    "def classify_sentiment(text):\n",
    "    if text.lower() == 'neutral':\n",
    "        return 'Neutral'\n",
    "    else:\n",
    "        analysis = TextBlob(text)\n",
    "        polarity = analysis.sentiment.polarity\n",
    "        return 'Positive' if polarity > 0 else 'Negative'\n",
    "\n",
    "df['Classified Sentiment'] = df['Sentiment'].apply(classify_sentiment)\n",
    "\n",
    "df_sentiments = df[['Sentiment', 'Classified Sentiment']].drop_duplicates()\n",
    "df_sentiments.columns = ['Sentiments', 'Classified Sentiment']"
   ]
  },
  {
   "cell_type": "code",
   "execution_count": 12,
   "metadata": {},
   "outputs": [
    {
     "data": {
      "text/html": [
       "<div>\n",
       "<style scoped>\n",
       "    .dataframe tbody tr th:only-of-type {\n",
       "        vertical-align: middle;\n",
       "    }\n",
       "\n",
       "    .dataframe tbody tr th {\n",
       "        vertical-align: top;\n",
       "    }\n",
       "\n",
       "    .dataframe thead th {\n",
       "        text-align: right;\n",
       "    }\n",
       "</style>\n",
       "<table border=\"1\" class=\"dataframe\">\n",
       "  <thead>\n",
       "    <tr style=\"text-align: right;\">\n",
       "      <th></th>\n",
       "      <th>Sentiments</th>\n",
       "      <th>Classified Sentiment</th>\n",
       "    </tr>\n",
       "  </thead>\n",
       "  <tbody>\n",
       "    <tr>\n",
       "      <th>0</th>\n",
       "      <td>Positive</td>\n",
       "      <td>Positive</td>\n",
       "    </tr>\n",
       "    <tr>\n",
       "      <th>1</th>\n",
       "      <td>Negative</td>\n",
       "      <td>Negative</td>\n",
       "    </tr>\n",
       "    <tr>\n",
       "      <th>4</th>\n",
       "      <td>Neutral</td>\n",
       "      <td>Neutral</td>\n",
       "    </tr>\n",
       "    <tr>\n",
       "      <th>52</th>\n",
       "      <td>Anger</td>\n",
       "      <td>Negative</td>\n",
       "    </tr>\n",
       "    <tr>\n",
       "      <th>53</th>\n",
       "      <td>Fear</td>\n",
       "      <td>Negative</td>\n",
       "    </tr>\n",
       "  </tbody>\n",
       "</table>\n",
       "</div>"
      ],
      "text/plain": [
       "   Sentiments Classified Sentiment\n",
       "0    Positive             Positive\n",
       "1    Negative             Negative\n",
       "4     Neutral              Neutral\n",
       "52      Anger             Negative\n",
       "53       Fear             Negative"
      ]
     },
     "execution_count": 12,
     "metadata": {},
     "output_type": "execute_result"
    }
   ],
   "source": [
    "df_sentiments.head()"
   ]
  },
  {
   "cell_type": "markdown",
   "metadata": {},
   "source": [
    "3.6 Tạo bảng Hashtags"
   ]
  },
  {
   "cell_type": "code",
   "execution_count": 13,
   "metadata": {},
   "outputs": [],
   "source": [
    "hashtags_series = df['Hashtags'].str.split().explode()\n",
    "hashtags_counts = hashtags_series.value_counts().reset_index()\n",
    "hashtags_counts.columns = ['Hashtags', 'Hashtags Count']\n",
    "\n",
    "df_hashtags = hashtags_counts[['Hashtags', 'Hashtags Count']]"
   ]
  },
  {
   "cell_type": "code",
   "execution_count": 14,
   "metadata": {},
   "outputs": [
    {
     "data": {
      "text/html": [
       "<div>\n",
       "<style scoped>\n",
       "    .dataframe tbody tr th:only-of-type {\n",
       "        vertical-align: middle;\n",
       "    }\n",
       "\n",
       "    .dataframe tbody tr th {\n",
       "        vertical-align: top;\n",
       "    }\n",
       "\n",
       "    .dataframe thead th {\n",
       "        text-align: right;\n",
       "    }\n",
       "</style>\n",
       "<table border=\"1\" class=\"dataframe\">\n",
       "  <thead>\n",
       "    <tr style=\"text-align: right;\">\n",
       "      <th></th>\n",
       "      <th>Hashtags</th>\n",
       "      <th>Hashtags Count</th>\n",
       "    </tr>\n",
       "  </thead>\n",
       "  <tbody>\n",
       "    <tr>\n",
       "      <th>0</th>\n",
       "      <td>#Serenity</td>\n",
       "      <td>15</td>\n",
       "    </tr>\n",
       "    <tr>\n",
       "      <th>1</th>\n",
       "      <td>#Gratitude</td>\n",
       "      <td>13</td>\n",
       "    </tr>\n",
       "    <tr>\n",
       "      <th>2</th>\n",
       "      <td>#Excitement</td>\n",
       "      <td>13</td>\n",
       "    </tr>\n",
       "    <tr>\n",
       "      <th>3</th>\n",
       "      <td>#Despair</td>\n",
       "      <td>11</td>\n",
       "    </tr>\n",
       "    <tr>\n",
       "      <th>4</th>\n",
       "      <td>#Nostalgia</td>\n",
       "      <td>11</td>\n",
       "    </tr>\n",
       "  </tbody>\n",
       "</table>\n",
       "</div>"
      ],
      "text/plain": [
       "      Hashtags  Hashtags Count\n",
       "0    #Serenity              15\n",
       "1   #Gratitude              13\n",
       "2  #Excitement              13\n",
       "3     #Despair              11\n",
       "4   #Nostalgia              11"
      ]
     },
     "execution_count": 14,
     "metadata": {},
     "output_type": "execute_result"
    }
   ],
   "source": [
    "df_hashtags.head()"
   ]
  },
  {
   "cell_type": "markdown",
   "metadata": {},
   "source": [
    "4. Tạo bảng Fact Tweets"
   ]
  },
  {
   "cell_type": "code",
   "execution_count": 15,
   "metadata": {},
   "outputs": [
    {
     "name": "stderr",
     "output_type": "stream",
     "text": [
      "C:\\Users\\HaoPham\\AppData\\Local\\Temp\\ipykernel_27720\\1618338067.py:8: SettingWithCopyWarning: \n",
      "A value is trying to be set on a copy of a slice from a DataFrame.\n",
      "Try using .loc[row_indexer,col_indexer] = value instead\n",
      "\n",
      "See the caveats in the documentation: https://pandas.pydata.org/pandas-docs/stable/user_guide/indexing.html#returning-a-view-versus-a-copy\n",
      "  df_tweets['Tweet ID'] = 'Posts_' + (df_tweets.index + 1).astype(str)\n"
     ]
    }
   ],
   "source": [
    "# Map giá trị Platform thành Platform ID\n",
    "df['Platform ID'] = df['Platform'].map(df_platform.set_index('Platform')['Platform ID'])\n",
    "\n",
    "# Tạo bảng Fact Tweets và thay Platform bằng Platform ID đã map\n",
    "df_tweets = df[['Text', 'Classified Sentiment', 'Timestamp', 'User ID', 'Platform ID', 'Hashtags', 'Retweets', 'Likes', 'Country ID']]\n",
    "df_tweets.columns = ['Text', 'Sentiment', 'Timestamp', 'User ID', 'Platform ID', 'Hashtags', 'Retweets', 'Likes', 'Country ID']\n",
    "# Thêm cột ID cho bảng df_tweets\n",
    "df_tweets['Tweet ID'] = 'Posts_' + (df_tweets.index + 1).astype(str)\n",
    "df_tweets = df_tweets[['Tweet ID', 'Text', 'Sentiment', 'Timestamp', 'User ID', 'Platform ID', 'Hashtags', 'Retweets', 'Likes', 'Country ID']]"
   ]
  },
  {
   "cell_type": "code",
   "execution_count": 16,
   "metadata": {},
   "outputs": [
    {
     "data": {
      "text/html": [
       "<div>\n",
       "<style scoped>\n",
       "    .dataframe tbody tr th:only-of-type {\n",
       "        vertical-align: middle;\n",
       "    }\n",
       "\n",
       "    .dataframe tbody tr th {\n",
       "        vertical-align: top;\n",
       "    }\n",
       "\n",
       "    .dataframe thead th {\n",
       "        text-align: right;\n",
       "    }\n",
       "</style>\n",
       "<table border=\"1\" class=\"dataframe\">\n",
       "  <thead>\n",
       "    <tr style=\"text-align: right;\">\n",
       "      <th></th>\n",
       "      <th>Tweet ID</th>\n",
       "      <th>Text</th>\n",
       "      <th>Sentiment</th>\n",
       "      <th>Timestamp</th>\n",
       "      <th>User ID</th>\n",
       "      <th>Platform ID</th>\n",
       "      <th>Hashtags</th>\n",
       "      <th>Retweets</th>\n",
       "      <th>Likes</th>\n",
       "      <th>Country ID</th>\n",
       "    </tr>\n",
       "  </thead>\n",
       "  <tbody>\n",
       "    <tr>\n",
       "      <th>0</th>\n",
       "      <td>Posts_1</td>\n",
       "      <td>Enjoying a beautiful day at the park</td>\n",
       "      <td>Positive</td>\n",
       "      <td>2023-01-15 12:30:00</td>\n",
       "      <td>User_1</td>\n",
       "      <td>X</td>\n",
       "      <td>#Nature #Park</td>\n",
       "      <td>15</td>\n",
       "      <td>30</td>\n",
       "      <td>US</td>\n",
       "    </tr>\n",
       "    <tr>\n",
       "      <th>1</th>\n",
       "      <td>Posts_2</td>\n",
       "      <td>Traffic was terrible this morning</td>\n",
       "      <td>Negative</td>\n",
       "      <td>2023-01-15 08:45:00</td>\n",
       "      <td>User_2</td>\n",
       "      <td>X</td>\n",
       "      <td>#Traffic #Morning</td>\n",
       "      <td>5</td>\n",
       "      <td>10</td>\n",
       "      <td>CA</td>\n",
       "    </tr>\n",
       "    <tr>\n",
       "      <th>2</th>\n",
       "      <td>Posts_3</td>\n",
       "      <td>Just finished an amazing workout</td>\n",
       "      <td>Positive</td>\n",
       "      <td>2023-01-15 15:45:00</td>\n",
       "      <td>User_3</td>\n",
       "      <td>IG</td>\n",
       "      <td>#Fitness #Workout</td>\n",
       "      <td>20</td>\n",
       "      <td>40</td>\n",
       "      <td>US</td>\n",
       "    </tr>\n",
       "    <tr>\n",
       "      <th>3</th>\n",
       "      <td>Posts_4</td>\n",
       "      <td>Excited about the upcoming weekend getaway</td>\n",
       "      <td>Positive</td>\n",
       "      <td>2023-01-15 18:20:00</td>\n",
       "      <td>User_4</td>\n",
       "      <td>FB</td>\n",
       "      <td>#Travel #Adventure</td>\n",
       "      <td>8</td>\n",
       "      <td>15</td>\n",
       "      <td>UK</td>\n",
       "    </tr>\n",
       "    <tr>\n",
       "      <th>4</th>\n",
       "      <td>Posts_5</td>\n",
       "      <td>Trying out a new recipe for dinner tonight</td>\n",
       "      <td>Neutral</td>\n",
       "      <td>2023-01-15 19:55:00</td>\n",
       "      <td>User_5</td>\n",
       "      <td>IG</td>\n",
       "      <td>#Cooking #Food</td>\n",
       "      <td>12</td>\n",
       "      <td>25</td>\n",
       "      <td>AU</td>\n",
       "    </tr>\n",
       "  </tbody>\n",
       "</table>\n",
       "</div>"
      ],
      "text/plain": [
       "  Tweet ID                                        Text Sentiment  \\\n",
       "0  Posts_1        Enjoying a beautiful day at the park  Positive   \n",
       "1  Posts_2           Traffic was terrible this morning  Negative   \n",
       "2  Posts_3            Just finished an amazing workout  Positive   \n",
       "3  Posts_4  Excited about the upcoming weekend getaway  Positive   \n",
       "4  Posts_5  Trying out a new recipe for dinner tonight   Neutral   \n",
       "\n",
       "            Timestamp User ID Platform ID            Hashtags  Retweets  \\\n",
       "0 2023-01-15 12:30:00  User_1           X       #Nature #Park        15   \n",
       "1 2023-01-15 08:45:00  User_2           X   #Traffic #Morning         5   \n",
       "2 2023-01-15 15:45:00  User_3          IG   #Fitness #Workout        20   \n",
       "3 2023-01-15 18:20:00  User_4          FB  #Travel #Adventure         8   \n",
       "4 2023-01-15 19:55:00  User_5          IG      #Cooking #Food        12   \n",
       "\n",
       "   Likes Country ID  \n",
       "0     30         US  \n",
       "1     10         CA  \n",
       "2     40         US  \n",
       "3     15         UK  \n",
       "4     25         AU  "
      ]
     },
     "execution_count": 16,
     "metadata": {},
     "output_type": "execute_result"
    }
   ],
   "source": [
    "df_tweets.head()"
   ]
  },
  {
   "cell_type": "markdown",
   "metadata": {},
   "source": [
    "4.1 Tạo bảng liên kết bảng Hashtag vs bảng Tweets"
   ]
  },
  {
   "cell_type": "code",
   "execution_count": 17,
   "metadata": {},
   "outputs": [],
   "source": [
    "# Bước 1: Tách các hashtag theo khoảng trắng và sử dụng explode để tách thành nhiều hàng\n",
    "hashtags_series = df_tweets[['Tweet ID', 'Hashtags']].copy()  # Lấy bản sao của cột Tweet ID và Hashtags\n",
    "hashtags_series['Hashtags'] = hashtags_series['Hashtags'].str.split(' ')  # Tách hashtags theo khoảng trắng\n",
    "hashtags_series = hashtags_series.explode('Hashtags')  # Tạo các hàng riêng cho mỗi hashtag\n",
    "hashtags_series = hashtags_series.reset_index(drop=True) # Xử lí lại index cho bảng\n",
    "\n",
    "df_hashtag_links = pd.DataFrame(hashtags_series)"
   ]
  },
  {
   "cell_type": "code",
   "execution_count": 18,
   "metadata": {},
   "outputs": [
    {
     "data": {
      "text/html": [
       "<div>\n",
       "<style scoped>\n",
       "    .dataframe tbody tr th:only-of-type {\n",
       "        vertical-align: middle;\n",
       "    }\n",
       "\n",
       "    .dataframe tbody tr th {\n",
       "        vertical-align: top;\n",
       "    }\n",
       "\n",
       "    .dataframe thead th {\n",
       "        text-align: right;\n",
       "    }\n",
       "</style>\n",
       "<table border=\"1\" class=\"dataframe\">\n",
       "  <thead>\n",
       "    <tr style=\"text-align: right;\">\n",
       "      <th></th>\n",
       "      <th>Tweet ID</th>\n",
       "      <th>Hashtags</th>\n",
       "    </tr>\n",
       "  </thead>\n",
       "  <tbody>\n",
       "    <tr>\n",
       "      <th>0</th>\n",
       "      <td>Posts_1</td>\n",
       "      <td>#Nature</td>\n",
       "    </tr>\n",
       "    <tr>\n",
       "      <th>1</th>\n",
       "      <td>Posts_1</td>\n",
       "      <td>#Park</td>\n",
       "    </tr>\n",
       "    <tr>\n",
       "      <th>2</th>\n",
       "      <td>Posts_2</td>\n",
       "      <td>#Traffic</td>\n",
       "    </tr>\n",
       "    <tr>\n",
       "      <th>3</th>\n",
       "      <td>Posts_2</td>\n",
       "      <td>#Morning</td>\n",
       "    </tr>\n",
       "    <tr>\n",
       "      <th>4</th>\n",
       "      <td>Posts_3</td>\n",
       "      <td>#Fitness</td>\n",
       "    </tr>\n",
       "  </tbody>\n",
       "</table>\n",
       "</div>"
      ],
      "text/plain": [
       "  Tweet ID  Hashtags\n",
       "0  Posts_1   #Nature\n",
       "1  Posts_1     #Park\n",
       "2  Posts_2  #Traffic\n",
       "3  Posts_2  #Morning\n",
       "4  Posts_3  #Fitness"
      ]
     },
     "execution_count": 18,
     "metadata": {},
     "output_type": "execute_result"
    }
   ],
   "source": [
    "df_hashtag_links.head()"
   ]
  },
  {
   "cell_type": "markdown",
   "metadata": {},
   "source": [
    "5. Lưu các bảng dữ liệu đã tách"
   ]
  },
  {
   "cell_type": "code",
   "execution_count": 19,
   "metadata": {},
   "outputs": [
    {
     "name": "stdout",
     "output_type": "stream",
     "text": [
      "Các bảng đã được lưu thành công!\n"
     ]
    },
    {
     "name": "stderr",
     "output_type": "stream",
     "text": [
      "<>:2: SyntaxWarning: invalid escape sequence '\\D'\n",
      "<>:10: SyntaxWarning: invalid escape sequence '\\D'\n",
      "<>:13: SyntaxWarning: invalid escape sequence '\\D'\n",
      "<>:16: SyntaxWarning: invalid escape sequence '\\D'\n",
      "<>:19: SyntaxWarning: invalid escape sequence '\\D'\n",
      "<>:22: SyntaxWarning: invalid escape sequence '\\D'\n",
      "<>:25: SyntaxWarning: invalid escape sequence '\\D'\n",
      "<>:28: SyntaxWarning: invalid escape sequence '\\D'\n",
      "<>:2: SyntaxWarning: invalid escape sequence '\\D'\n",
      "<>:10: SyntaxWarning: invalid escape sequence '\\D'\n",
      "<>:13: SyntaxWarning: invalid escape sequence '\\D'\n",
      "<>:16: SyntaxWarning: invalid escape sequence '\\D'\n",
      "<>:19: SyntaxWarning: invalid escape sequence '\\D'\n",
      "<>:22: SyntaxWarning: invalid escape sequence '\\D'\n",
      "<>:25: SyntaxWarning: invalid escape sequence '\\D'\n",
      "<>:28: SyntaxWarning: invalid escape sequence '\\D'\n",
      "C:\\Users\\HaoPham\\AppData\\Local\\Temp\\ipykernel_27720\\1721402155.py:2: SyntaxWarning: invalid escape sequence '\\D'\n",
      "  df.to_csv('D:\\DATN\\Social Media Sentiments Analysis Dataset\\DeBug  data\\cleaned_data\\sentimentdataset03.csv')\n",
      "C:\\Users\\HaoPham\\AppData\\Local\\Temp\\ipykernel_27720\\1721402155.py:10: SyntaxWarning: invalid escape sequence '\\D'\n",
      "  df_sentiments.to_csv('D:\\DATN\\Social Media Sentiments Analysis Dataset\\DeBug  data\\cleaned_data\\sentiments.csv', index=False)\n",
      "C:\\Users\\HaoPham\\AppData\\Local\\Temp\\ipykernel_27720\\1721402155.py:13: SyntaxWarning: invalid escape sequence '\\D'\n",
      "  df_hashtags.to_csv('D:\\DATN\\Social Media Sentiments Analysis Dataset\\DeBug  data\\cleaned_data\\hashtags.csv', index=False)\n",
      "C:\\Users\\HaoPham\\AppData\\Local\\Temp\\ipykernel_27720\\1721402155.py:16: SyntaxWarning: invalid escape sequence '\\D'\n",
      "  df_hashtag_links.to_csv('D:\\DATN\\Social Media Sentiments Analysis Dataset\\DeBug  data\\cleaned_data\\hashtag_links.csv', index=False)\n",
      "C:\\Users\\HaoPham\\AppData\\Local\\Temp\\ipykernel_27720\\1721402155.py:19: SyntaxWarning: invalid escape sequence '\\D'\n",
      "  df_countries.to_csv('D:\\DATN\\Social Media Sentiments Analysis Dataset\\DeBug  data\\cleaned_data\\countries.csv', index=False)\n",
      "C:\\Users\\HaoPham\\AppData\\Local\\Temp\\ipykernel_27720\\1721402155.py:22: SyntaxWarning: invalid escape sequence '\\D'\n",
      "  df_calendar.to_csv('D:\\DATN\\Social Media Sentiments Analysis Dataset\\DeBug  data\\cleaned_data\\calendar.csv', index=False)\n",
      "C:\\Users\\HaoPham\\AppData\\Local\\Temp\\ipykernel_27720\\1721402155.py:25: SyntaxWarning: invalid escape sequence '\\D'\n",
      "  df_platform.to_csv('D:\\DATN\\Social Media Sentiments Analysis Dataset\\DeBug  data\\cleaned_data\\platform.csv', index=False)\n",
      "C:\\Users\\HaoPham\\AppData\\Local\\Temp\\ipykernel_27720\\1721402155.py:28: SyntaxWarning: invalid escape sequence '\\D'\n",
      "  df_tweets.to_csv('D:\\DATN\\Social Media Sentiments Analysis Dataset\\DeBug  data\\cleaned_data\\Tweets.csv', index=False)\n"
     ]
    }
   ],
   "source": [
    "# Đọc dữ liệu gốc\n",
    "df.to_csv('D:\\DATN\\Social Media Sentiments Analysis Dataset\\DeBug  data\\cleaned_data\\sentimentdataset03.csv')\n",
    "\n",
    "# Thực hiện các bước tạo các bảng và Fact như đã hướng dẫn ở trên\n",
    "\n",
    "# Lưu bảng Users\n",
    "df_users.to_csv(r'D:\\DATN\\Social Media Sentiments Analysis Dataset\\DeBug  data\\cleaned_data\\users.csv', index=False)\n",
    "\n",
    "# Lưu bảng Sentiments\n",
    "df_sentiments.to_csv('D:\\DATN\\Social Media Sentiments Analysis Dataset\\DeBug  data\\cleaned_data\\sentiments.csv', index=False)\n",
    "\n",
    "# Lưu bảng Hashtags\n",
    "df_hashtags.to_csv('D:\\DATN\\Social Media Sentiments Analysis Dataset\\DeBug  data\\cleaned_data\\hashtags.csv', index=False)\n",
    "\n",
    "# Lưu bảng Hashtags links\n",
    "df_hashtag_links.to_csv('D:\\DATN\\Social Media Sentiments Analysis Dataset\\DeBug  data\\cleaned_data\\hashtag_links.csv', index=False)\n",
    "\n",
    "# Lưu bảng Countries\n",
    "df_countries.to_csv('D:\\DATN\\Social Media Sentiments Analysis Dataset\\DeBug  data\\cleaned_data\\countries.csv', index=False)\n",
    "\n",
    "# Lưu bảng Calendar\n",
    "df_calendar.to_csv('D:\\DATN\\Social Media Sentiments Analysis Dataset\\DeBug  data\\cleaned_data\\calendar.csv', index=False)\n",
    "\n",
    "# Lưu bảng Platform\n",
    "df_platform.to_csv('D:\\DATN\\Social Media Sentiments Analysis Dataset\\DeBug  data\\cleaned_data\\platform.csv', index=False)\n",
    "\n",
    "# Lưu bảng Tweets\n",
    "df_tweets.to_csv('D:\\DATN\\Social Media Sentiments Analysis Dataset\\DeBug  data\\cleaned_data\\Tweets.csv', index=False)\n",
    "\n",
    "# In thông báo sau khi lưu xong\n",
    "print(\"Các bảng đã được lưu thành công!\")\n"
   ]
  }
 ],
 "metadata": {
  "kernelspec": {
   "display_name": ".venv",
   "language": "python",
   "name": "python3"
  },
  "language_info": {
   "codemirror_mode": {
    "name": "ipython",
    "version": 3
   },
   "file_extension": ".py",
   "mimetype": "text/x-python",
   "name": "python",
   "nbconvert_exporter": "python",
   "pygments_lexer": "ipython3",
   "version": "3.12.1"
  }
 },
 "nbformat": 4,
 "nbformat_minor": 2
}
